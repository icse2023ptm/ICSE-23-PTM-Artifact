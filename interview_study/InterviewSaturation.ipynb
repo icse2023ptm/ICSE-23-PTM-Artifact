{
  "cells": [
    {
      "cell_type": "code",
      "execution_count": 1,
      "metadata": {
        "id": "va_hhj44yHBS"
      },
      "outputs": [],
      "source": [
        "import numpy as np\n",
        "import matplotlib.pyplot as plt"
      ]
    },
    {
      "cell_type": "code",
      "execution_count": 2,
      "metadata": {
        "id": "vyWlloQR4j7y"
      },
      "outputs": [],
      "source": [
        "# Selection\n",
        "P1_sel = [\"cost\", \"latency\", \"license\", \"ease of use\", \"support\", \"fine-tunability\"]\n",
        "P2_sel = [\"use case\", \"model type\", \"publication date\", \"model size\"]\n",
        "P3_sel = [\"model type\", \"use case\", \"architecture\"]\n",
        "P4_sel = [\"use case\"]\n",
        "P5_sel = [\"use case\"]\n",
        "P6_sel = [\"use case\", \"leaderboard\", \"task\", \"dataset\", \"model size\"]\n",
        "P7_sel = [\"papers\", \"task\", \"capabilities\", \"experience\"]\n",
        "P8_sel = [\"use case\", \"model type\", \"dataset\"]\n",
        "P9_sel = [\"use case\", \"papers\"]\n",
        "P10_sel = [\"papers\", \"architecture\"]\n",
        "P11_sel = [\"dataset\", \"model size\"]\n",
        "P12_sel = [\"use case\", \"task\", \"papers\", \"model size\"]"
      ]
    },
    {
      "cell_type": "code",
      "execution_count": 3,
      "metadata": {
        "id": "aqFVM8tqyMpe"
      },
      "outputs": [],
      "source": [
        "# Attributes\n",
        "P1_att = [\"popularity\", \"license\", \"documentation\", \"training configuration\", \"latency\", \"hardware specification\"]\n",
        "P2_att = [\"maintenance\", \"dataset details\", \"badge\", \"demos\", \"performance table\", \"bias\", \"training logs\"]\n",
        "P3_att = [\"quality\", \"dataset details\", \"architecture details\", \"hardware specification\", \"framework support\", \"license\"]\n",
        "P4_att = [\"popularity\",\"dataset details\", \"fine-tuning instructions\", \"documentation\", \"demos\", \"hardware specification\", \"training configuration\", \"architecture details\"]\n",
        "P5_att = [\"popularity\", \"maintenance\", \"quality\", \"reproducibility\", \"documentation\", \"demos\", \"quantized model\", \"framework support\", \"architecture details\", \"use scenarios\"]\n",
        "P6_att = [\"performance table\", \"dataset details\", \"fine-tuning instructions\", \"cost estimation\", \"hardware specification\"]\n",
        "P7_att = [\"quality\", \"popularity\", \"documentation\", \"demos\", \"environment image\"]\n",
        "P8_att = [\"popularity\", \"dataset details\", \"environment image\", \"training configuration\"]\n",
        "P9_att = [\"popularity\", \"architecture details\", \"hardware specification\", \"training configuration\", \"environment image\", \"performance table\", \"fine-tuning instructions\"]\n",
        "P10_att = [\"fine-tuning instructions\", \"training logs\", \"performance table\", \"framework support\"]\n",
        "P11_att = [\"popularity\", \"architecture details\", \"training configuration\", \"documentation\", \"hardware specification\", \"latency\"]\n",
        "P12_att = [\"popularity\", \"training configuration\", \"architecture details\", \"demos\", \"fine-tuning instructions\", \"hardware specification\", \"cost estimation\"]"
      ]
    },
    {
      "cell_type": "code",
      "execution_count": 4,
      "metadata": {
        "id": "Zoyyd_Oz4gsM"
      },
      "outputs": [],
      "source": [
        "# Challenges\n",
        "P1_cha = [\"Missing attributes\", \"Discrepancies\"]\n",
        "P2_cha = [\"Discrepancies\", \"Security and privacy risks\"]\n",
        "P3_cha = [\"Missing attributes\", \"Discrepancies\"]\n",
        "P4_cha = [\"Missing attributes\", \"Model application\"]\n",
        "P5_cha = [\"Missing attributes\", \"Discrepancies\", \"Model search\"]\n",
        "P6_cha = [\"Missing attributes\"]\n",
        "P7_cha = [\"Missing attributes\"]\n",
        "P8_cha = [\"Discrepancies\", \"Security and privacy risks\"]\n",
        "P9_cha = [\"Missing attributes\", \"Discrepancies\", \"Model flexibility\"]\n",
        "P10_cha = [\"Missing attributes\", \"Discrepancies\"]\n",
        "P11_cha = [\"Missing attributes\", \"Discrepancies\"]\n",
        "P12_cha = [\"Missing attributes\", \"Discrepancies\"]"
      ]
    },
    {
      "cell_type": "code",
      "execution_count": 5,
      "metadata": {
        "id": "YnyYQYrD_NOp"
      },
      "outputs": [],
      "source": [
        "data = [P1_sel + P1_att + P1_cha,\n",
        "        P2_sel + P2_att + P2_cha,\n",
        "        P3_sel + P3_att + P3_cha,\n",
        "        P4_sel + P4_att + P4_cha,\n",
        "        P5_sel + P5_att + P5_cha,\n",
        "        P6_sel + P6_att + P6_cha,\n",
        "        P7_sel + P7_att + P7_cha,\n",
        "        P8_sel + P8_att + P8_cha,\n",
        "        P9_sel + P9_att + P9_cha,\n",
        "        P10_sel + P10_att + P10_cha,\n",
        "        P11_sel + P11_att + P11_cha,\n",
        "        P12_sel + P12_att + P12_cha]"
      ]
    },
    {
      "cell_type": "code",
      "execution_count": 8,
      "metadata": {
        "colab": {
          "base_uri": "https://localhost:8080/"
        },
        "id": "cnuia8ll_nsI",
        "outputId": "3e05ec4c-5e71-4b47-e848-611b34e78aba"
      },
      "outputs": [
        {
          "name": "stdout",
          "output_type": "stream",
          "text": [
            "1 14 12\n",
            "2 13 24\n",
            "3 11 28\n",
            "4 11 30\n",
            "5 14 34\n",
            "6 11 38\n",
            "7 10 42\n",
            "8 9 42\n",
            "9 12 43\n",
            "10 8 43\n",
            "11 10 43\n",
            "12 13 43\n"
          ]
        }
      ],
      "source": [
        "data_all = []\n",
        "count = []\n",
        "for idx, P in enumerate(data):\n",
        "  for code in P:\n",
        "    if code not in data_all:\n",
        "      data_all.append(code)\n",
        "  print(idx+1, len(P), len(data_all))\n",
        "  count.append(len(data_all))"
      ]
    },
    {
      "cell_type": "code",
      "execution_count": 19,
      "metadata": {
        "colab": {
          "base_uri": "https://localhost:8080/",
          "height": 321
        },
        "id": "9cxgJRbR_pp6",
        "outputId": "f01202f7-2366-4240-893d-f93f32ba7ec0"
      },
      "outputs": [
        {
          "data": {
            "text/plain": [
              "Text(0, 0.5, '# of unique codes')"
            ]
          },
          "execution_count": 19,
          "metadata": {},
          "output_type": "execute_result"
        },
        {
          "data": {
            "image/png": "[encoded data removed]",
            "text/plain": [
              "<Figure size 432x288 with 1 Axes>"
            ]
          },
          "metadata": {
            "needs_background": "light"
          },
          "output_type": "display_data"
        }
      ],
      "source": [
        "plt.plot(np.arange(len(count))+1, count)\n",
        "plt.title(\"Cumulative unique codes by subject\", fontsize=18)\n",
        "plt.xlabel(\"# of subjects\", fontsize=15)\n",
        "plt.ylabel(\"# of unique codes\", fontsize=15)"
      ]
    },
    {
      "cell_type": "code",
      "execution_count": 20,
      "metadata": {
        "colab": {
          "base_uri": "https://localhost:8080/"
        },
        "id": "p_mnWzCtAQ31",
        "outputId": "8f708a5d-edad-4691-bf52-c1ca1c6bf172"
      },
      "outputs": [
        {
          "name": "stdout",
          "output_type": "stream",
          "text": [
            "['cost', 'latency', 'license', 'ease of use', 'support', 'fine-tunability', 'popularity', 'license', 'documentation', 'training configuration', 'latency', 'hardware specification', 'Missing attributes', 'Discrepancies']\n",
            "['use case', 'model type', 'publication date', 'model size', 'maintenance', 'dataset details', 'badge', 'demos', 'performance table', 'bias', 'training logs', 'Discrepancies', 'Security and privacy risks']\n",
            "['model type', 'use case', 'architecture', 'quality', 'dataset details', 'architecture details', 'hardware specification', 'framework support', 'license', 'Missing attributes', 'Discrepancies']\n",
            "['use case', 'popularity', 'dataset details', 'fine-tuning instructions', 'documentation', 'demos', 'hardware specification', 'training configuration', 'architecture details', 'Missing attributes', 'Model application']\n",
            "['use case', 'popularity', 'maintenance', 'quality', 'reproducibility', 'documentation', 'demos', 'quantized model', 'framework support', 'architecture details', 'use scenarios', 'Missing attributes', 'Discrepancies', 'Model search']\n",
            "['use case', 'leaderboard', 'task', 'dataset', 'model size', 'performance table', 'dataset details', 'fine-tuning instructions', 'cost estimation', 'hardware specification', 'Missing attributes']\n",
            "['papers', 'task', 'capabilities', 'experience', 'quality', 'popularity', 'documentation', 'demos', 'environment image', 'Missing attributes']\n",
            "['use case', 'model type', 'dataset', 'popularity', 'dataset details', 'environment image', 'training configuration', 'Discrepancies', 'Security and privacy risks']\n",
            "['use case', 'papers', 'popularity', 'architecture details', 'hardware specification', 'training configuration', 'environment image', 'performance table', 'fine-tuning instructions', 'Missing attributes', 'Discrepancies', 'Model flexibility']\n",
            "['papers', 'architecture', 'fine-tuning instructions', 'training logs', 'performance table', 'framework support', 'Missing attributes', 'Discrepancies']\n",
            "['dataset', 'model size', 'popularity', 'architecture details', 'training configuration', 'documentation', 'hardware specification', 'latency', 'Missing attributes', 'Discrepancies']\n",
            "['use case', 'task', 'papers', 'model size', 'popularity', 'training configuration', 'architecture details', 'demos', 'fine-tuning instructions', 'hardware specification', 'cost estimation', 'Missing attributes', 'Discrepancies']\n"
          ]
        }
      ],
      "source": [
        "uniqcode_per_sub = []\n",
        "for idx, P in enumerate(data):\n",
        "  print(P)\n",
        "  uniqcode_per_sub.append(len(P))"
      ]
    },
    {
      "cell_type": "code",
      "execution_count": 21,
      "metadata": {
        "colab": {
          "base_uri": "https://localhost:8080/"
        },
        "id": "QVXmVp49Fhgm",
        "outputId": "578d0408-d23a-4f6d-8097-cb7975b8cd7e"
      },
      "outputs": [
        {
          "data": {
            "text/plain": [
              "[14, 13, 11, 11, 14, 11, 10, 9, 12, 8, 10, 13]"
            ]
          },
          "execution_count": 21,
          "metadata": {},
          "output_type": "execute_result"
        }
      ],
      "source": [
        "uniqcode_per_sub"
      ]
    },
    {
      "cell_type": "code",
      "execution_count": 33,
      "metadata": {
        "colab": {
          "base_uri": "https://localhost:8080/",
          "height": 321
        },
        "id": "h76PNvNQEpwk",
        "outputId": "24edaa88-41a0-4769-e2e6-e498ba1888ac"
      },
      "outputs": [
        {
          "data": {
            "text/plain": [
              "Text(0, 0.5, '# of unique codes per subject')"
            ]
          },
          "execution_count": 33,
          "metadata": {},
          "output_type": "execute_result"
        },
        {
          "data": {
            "image/png": "[encoded data removed]",
            "text/plain": [
              "<Figure size 432x288 with 1 Axes>"
            ]
          },
          "metadata": {
            "needs_background": "light"
          },
          "output_type": "display_data"
        }
      ],
      "source": [
        "plt.bar(x=np.arange(len(uniqcode_per_sub)) + 1, height=uniqcode_per_sub)\n",
        "plt.title(\"Cumulative unique codes per subject\", fontsize=18)\n",
        "plt.xlabel(\"Subject\", fontsize=15)\n",
        "plt.ylabel(\"# of unique codes per subject\", fontsize=15)"
      ]
    },
    {
      "cell_type": "code",
      "execution_count": null,
      "metadata": {
        "id": "WQO9BnHZv2o1"
      },
      "outputs": [],
      "source": []
    }
  ],
  "metadata": {
    "colab": {
      "provenance": []
    },
    "kernelspec": {
      "display_name": "Python 3",
      "name": "python3"
    },
    "language_info": {
      "name": "python"
    }
  },
  "nbformat": 4,
  "nbformat_minor": 0
}
